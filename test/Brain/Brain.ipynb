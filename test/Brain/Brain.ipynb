{
  "nbformat": 4,
  "nbformat_minor": 0,
  "metadata": {
    "colab": {
      "name": "Brain.ipynb",
      "provenance": []
    },
    "kernelspec": {
      "name": "python3",
      "display_name": "Python 3"
    },
    "language_info": {
      "name": "python"
    }
  },
  "cells": [
    {
      "cell_type": "code",
      "execution_count": null,
      "metadata": {
        "id": "CyUoB0MsjDK5"
      },
      "outputs": [],
      "source": [
        "!pip install activeSVC==4.0.1\n",
        "!pip install psutil\n",
        "!pip install h5py"
      ]
    },
    {
      "cell_type": "code",
      "source": [
        "import numpy as np\n",
        "import time\n",
        "import random\n",
        "import os\n",
        "\n",
        "from sklearn.preprocessing import normalize \n",
        "from sklearn.manifold import TSNE\n",
        "from sklearn.decomposition import PCA\n",
        "\n",
        "import matplotlib.pyplot as plt\n",
        "from matplotlib import gridspec\n",
        "\n",
        "from activeSVC import min_complexity, min_acquisition\n",
        "import pandas as pd\n",
        "import h5py\n",
        "import pickle\n",
        "import os, psutil\n",
        "import resource\n",
        "\n",
        "\n",
        "def text_create(path, name, msg):\n",
        "    full_path = path + \"/\" + name + '.pickle'\n",
        "    f=open(full_path,'wb') \n",
        "    pickle.dump(msg,f)\n",
        "    f.close()\n",
        "\n",
        "class TimerError(Exception):\n",
        "     \"\"\"A custom exception used to report errors in use of Timer class\"\"\"\n",
        "\n",
        "class Timer:\n",
        "    def __init__(self):\n",
        "        self._start_time = None\n",
        "\n",
        "    def start(self):\n",
        "        if self._start_time is not None:\n",
        "            raise TimerError(f\"Timer is running. Use .stop() to stop it\")\n",
        "\n",
        "        self._start_time = time.perf_counter()\n",
        "\n",
        "    def stop(self):\n",
        "        if self._start_time is None:\n",
        "            raise TimerError(f\"Timer is not running. Use .start() to start it\")\n",
        "\n",
        "        elapsed_time = time.perf_counter() - self._start_time\n",
        "        self._start_time = None\n",
        "        print(f\"Total run time: {elapsed_time:0.4f} seconds\")\n",
        "        return elapsed_time\n",
        "        \n",
        "\n",
        "\n"
      ],
      "metadata": {
        "id": "aB5SAW5CjIQ4"
      },
      "execution_count": null,
      "outputs": []
    },
    {
      "cell_type": "markdown",
      "source": [
        "# Download and Load Brain Data"
      ],
      "metadata": {
        "id": "ZIt-SY3yjTHO"
      }
    },
    {
      "cell_type": "code",
      "source": [
        ""
      ],
      "metadata": {
        "id": "JTB3uPxvjKUj"
      },
      "execution_count": null,
      "outputs": []
    },
    {
      "cell_type": "code",
      "source": [
        "\n",
        "\n",
        "df = pd.read_csv('./data/clusters10.csv', index_col=0)\n",
        "y=df['Cluster'].values\n",
        "classes = np.unique(y)\n",
        "keys=classes\n",
        "\n",
        "f = h5py.File('./data/1M_neurons_filtered_gene_bc_matrices_h5.h5', 'r')\n",
        "h5data=f['mm10']\n",
        "gene_names=h5data['gene_names']\n",
        "shape=h5data['shape']\n",
        "\n",
        "f = h5py.File('./data/norm_1M_neurons_filtered_gene_bc_matrices_h5.h5', 'r')\n",
        "h5data=f['mm10']\n",
        "data_cell=h5data['data']\n",
        "indices_cell=h5data['indices']\n",
        "indptr_cell = h5data['indptr']\n",
        "\n",
        "f = h5py.File('./data/norm_transpose_1M_neurons_filtered_gene_bc_matrices_h5.h5', 'r')\n",
        "h5data=f['mm10']\n",
        "data_gene=h5data['data']\n",
        "indices_gene=h5data['indices']\n",
        "indptr_gene = h5data['indptr']\n",
        "\n",
        "\n",
        "genelist=np.array(gene_names)\n",
        "gene_name=[]\n",
        "for i in range(genelist.shape[0]):\n",
        "    gene_name.append(genelist[i].decode())\n",
        "gene_name=np.array(gene_name)\n",
        "\n",
        "idx = np.arange(shape[1])\n",
        "random.shuffle(idx)\n",
        "idx_train=idx[:int(shape[1]*4/5)]\n",
        "idx_test=idx[int(shape[1]*4/5):]"
      ],
      "metadata": {
        "id": "ZtKQDSlds8YH"
      },
      "execution_count": null,
      "outputs": []
    },
    {
      "cell_type": "markdown",
      "source": [
        "# min_complexity"
      ],
      "metadata": {
        "id": "4znA34V5tU3Z"
      }
    },
    {
      "cell_type": "markdown",
      "source": [
        "## Define Parameters and Work Space"
      ],
      "metadata": {
        "id": "e8zUTZUjtXve"
      }
    },
    {
      "cell_type": "code",
      "source": [
        "'''\n",
        "Parameters\n",
        "'''\n",
        "num_features = 50\n",
        "num_samples=50\n",
        "init_samples=50\n",
        "balance=False\n",
        "\n",
        "folder='results/min_complexity'\n",
        "path=folder+'/test_'+str(num_features)+'_'+str(num_samples)\n",
        "\n",
        "try:\n",
        "    os.mkdir('results')\n",
        "except OSError:\n",
        "    print (\"Creation of the directory %s failed\" % 'results')\n",
        "else:\n",
        "    print (\"Successfully created the directory %s \" % 'results')\n",
        "try:\n",
        "    os.mkdir(folder)\n",
        "except OSError:\n",
        "    print (\"Creation of the directory %s failed\" % folder)\n",
        "else:\n",
        "    print (\"Successfully created the directory %s \" % folder)\n",
        "try:\n",
        "    os.mkdir(path)\n",
        "except OSError:\n",
        "    print (\"Creation of the directory %s failed\" % path)\n",
        "else:\n",
        "    print (\"Successfully created the directory %s \" % path)"
      ],
      "metadata": {
        "id": "hUlk65EetUEG"
      },
      "execution_count": null,
      "outputs": []
    },
    {
      "cell_type": "markdown",
      "source": [
        "## Select Genes and Save Results"
      ],
      "metadata": {
        "id": "JNc1KdWYt6ZU"
      }
    },
    {
      "cell_type": "code",
      "source": [
        "if __name__ == '__main__':\n",
        "\n",
        "    t=Timer()\n",
        "    t.start()\n",
        "    feature_selected, num_samples_list, train_errors,test_errors,train_scores,test_scores,step_times= min_complexity_h5py(\n",
        "        data_cell,indices_cell,indptr_cell,data_gene,indices_gene,indptr_gene, y, shape,idx_train,idx_test, \n",
        "        num_features=num_features,num_samples=num_samples,init_features=1,init_samples=init_samples, balance=balance)\n",
        "    elapsed_time=t.stop()\n",
        "    \n",
        "    memorys=[]\n",
        "    memorys.append(psutil.Process(os.getpid()).memory_info().rss / 1024 ** 2)\n",
        "    memorys.append(resource.getrusage(resource.RUSAGE_SELF).ru_maxrss/ 1024 ** 2)\n",
        "    \n",
        "    text_create(path,'feature_selected',feature_selected)\n",
        "    text_create(path,'error',train_errors+test_errors)\n",
        "    text_create(path,'accuracy',train_scores+test_scores)\n",
        "    text_create(path,'num_samples_list',num_samples_list)\n",
        "    text_create(path,'genes_name',gene[feature_selected])\n",
        "    text_create(path,'elapsed_time',elapsed_time)\n",
        "    text_create(path,'memory',memorys)\n",
        "\n",
        "    plt.figure(figsize=(8,8))\n",
        "    plt.plot(train_scores,linewidth=2)\n",
        "    plt.plot(test_scores,linewidth=2)\n",
        "    plt.legend(['train acc','test acc'],prop = {'size':18})\n",
        "    plt.xlabel('number of genes',fontdict={'weight':'normal','size': 18})\n",
        "    plt.ylabel('accuracy',fontdict={'weight':'normal','size': 18})\n",
        "    plt.tick_params(labelsize=18)\n",
        "    plt.savefig(path+'/acc.pdf', bbox_inches=\"tight\")"
      ],
      "metadata": {
        "id": "U0P01wZEt7Zo"
      },
      "execution_count": null,
      "outputs": []
    },
    {
      "cell_type": "markdown",
      "source": [
        "# min_aquisition"
      ],
      "metadata": {
        "id": "qiSTt3gguUBu"
      }
    },
    {
      "cell_type": "markdown",
      "source": [
        "## Define Parameters and Work Space"
      ],
      "metadata": {
        "id": "OIcm739nuXem"
      }
    },
    {
      "cell_type": "code",
      "source": [
        "'''\n",
        "Parameters\n",
        "'''\n",
        "num_features = 50\n",
        "num_samples=1000\n",
        "init_samples=1000\n",
        "\n",
        "folder='results/min_acquisition'\n",
        "path=folder+'/test_'+str(num_features)+'_'+str(num_samples)\n",
        "\n",
        "try:\n",
        "    os.mkdir('results')\n",
        "except OSError:\n",
        "    print (\"Creation of the directory %s failed\" % 'results')\n",
        "else:\n",
        "    print (\"Successfully created the directory %s \" % 'results')\n",
        "try:\n",
        "    os.mkdir(folder)\n",
        "except OSError:\n",
        "    print (\"Creation of the directory %s failed\" % folder)\n",
        "else:\n",
        "    print (\"Successfully created the directory %s \" % folder)\n",
        "try:\n",
        "    os.mkdir(path)\n",
        "except OSError:\n",
        "    print (\"Creation of the directory %s failed\" % path)\n",
        "else:\n",
        "    print (\"Successfully created the directory %s \" % path)"
      ],
      "metadata": {
        "id": "Oc3KooLrubeY"
      },
      "execution_count": null,
      "outputs": []
    },
    {
      "cell_type": "markdown",
      "source": [
        "## Select Genes and Save Results"
      ],
      "metadata": {
        "id": "qZJRzsE8ukMp"
      }
    },
    {
      "cell_type": "code",
      "source": [
        "if __name__ == '__main__':\n",
        "\n",
        "    t=Timer()\n",
        "    t.start()\n",
        "    feature_selected, num_samples_list, samples_global, train_errors,test_errors,train_scores,test_scores,step_times= min_acquisition_h5py(\n",
        "        data_cell,indices_cell,indptr_cell,data_gene,indices_gene,indptr_gene, y, shape,idx_train,idx_test,\n",
        "        num_features=num_features,num_samples=num_samples,init_features=1,init_samples=init_samples,balance=balance)\n",
        "    elapsed_time=t.stop()\n",
        "    \n",
        "    memorys=[]\n",
        "    memorys.append(psutil.Process(os.getpid()).memory_info().rss / 1024 ** 2)\n",
        "    memorys.append(resource.getrusage(resource.RUSAGE_SELF).ru_maxrss/ 1024 ** 2)\n",
        "    \n",
        "    text_create(path,'feature_selected',feature_selected)\n",
        "    text_create(path,'error',train_errors+test_errors)\n",
        "    text_create(path,'accuracy',train_scores+test_scores)\n",
        "    text_create(path,'num_samples_list',num_samples_list)\n",
        "    text_create(path,'samples_global',samples_global)\n",
        "    text_create(path,'genes_name',gene[feature_selected])\n",
        "    text_create(path,'elapsed_time',elapsed_time)\n",
        "    text_create(path,'memory',memorys)\n",
        "\n",
        "    plt.figure(figsize=(8,8))\n",
        "    plt.plot(train_scores,linewidth=2)\n",
        "    plt.plot(test_scores,linewidth=2)\n",
        "    plt.legend(['train acc','test acc'],prop = {'size':18})\n",
        "    plt.xlabel('number of genes',fontdict={'weight':'normal','size': 18})\n",
        "    plt.ylabel('accuracy',fontdict={'weight':'normal','size': 18})\n",
        "    plt.tick_params(labelsize=18)\n",
        "    plt.savefig(path+'/acc.pdf', bbox_inches=\"tight\")\n",
        "\n",
        "    plt.figure(figsize=(8,5))\n",
        "    plt.plot(num_samples_list,linewidth=5)\n",
        "    plt.xlabel('number of genes',fontdict={'weight':'normal','size': 18})\n",
        "    plt.ylabel('number of cells acquired',fontdict={'weight':'normal','size': 18})\n",
        "    plt.tick_params(labelsize=18)\n",
        "    plt.savefig(path+'/cells.pdf', bbox_inches=\"tight\")"
      ],
      "metadata": {
        "id": "8IBsXoe9unFE"
      },
      "execution_count": null,
      "outputs": []
    },
    {
      "cell_type": "markdown",
      "source": [
        "# Plots"
      ],
      "metadata": {
        "id": "L18n51Niu8sn"
      }
    },
    {
      "cell_type": "markdown",
      "source": [
        "## Sampling"
      ],
      "metadata": {
        "id": "oHkRRAJDvCwk"
      }
    },
    {
      "cell_type": "code",
      "source": [
        "sampling=np.arange(shape[1])\n",
        "random.shuffle(sampling)\n",
        "\n",
        "matrix=index_cell(data_cell,indices_cell,indptr_cell, shape, sampling[:30000]).toarray()\n",
        "target=y[sampling[:30000]]\n",
        "import pickle\n",
        "f=open(path+'/sampling.pickle','wb') \n",
        "pickle.dump(sampling,f)\n",
        "f.close()"
      ],
      "metadata": {
        "id": "bbCXatKzu9Wp"
      },
      "execution_count": null,
      "outputs": []
    },
    {
      "cell_type": "markdown",
      "source": [
        "## T-SNE"
      ],
      "metadata": {
        "id": "aWxaUnaVvIOE"
      }
    },
    {
      "cell_type": "code",
      "source": [
        "plt.figure(figsize=(9,6))\n",
        "c_cmap = plt.get_cmap('tab10', len(classes))\n",
        "plt.scatter(tsne1[sampling[:30000]],tsne2[sampling[:30000]],c=target,s=1,cmap=c_cmap)\n",
        "cbar=plt.colorbar(ticks=np.arange(1,len(classes)+1))\n",
        "plt.xticks([])\n",
        "plt.yticks([])\n",
        "cbar.ax.set_yticklabels(keys,fontdict={'weight':'normal','size': 18})\n",
        "plt.savefig(path+'/tsne.png',dpi=300,  facecolor='white',bbox_inches=\"tight\")"
      ],
      "metadata": {
        "id": "5JcC1CebvLiP"
      },
      "execution_count": null,
      "outputs": []
    },
    {
      "cell_type": "markdown",
      "source": [
        "## Gene Markers"
      ],
      "metadata": {
        "id": "2uDuh3DrvUGR"
      }
    },
    {
      "cell_type": "code",
      "source": [
        "alpha = 10000\n",
        "num_col=10\n",
        "data_show = np.log1p(matrix*alpha)\n",
        "\n",
        "size=len(feature_selected)\n",
        "plt.figure(figsize=(3*num_col,2.5*(int(size/num_col)+1)))\n",
        "gs = gridspec.GridSpec(int(size/num_col)+1, num_col, width_ratios=[7]*num_col)\n",
        "\n",
        "for i in range(size):\n",
        "    f=feature_selected[i]\n",
        "    ax0 = plt.subplot(gs[i])\n",
        "    ax0.set_title(gene_name[f],fontdict={'weight':'normal','size': 18})\n",
        "    plt.scatter(tsne1[sampling[:30000]],tsne2[sampling[:30000]],c=data_show[:,f],s=0.01)\n",
        "    ax0.set_xticks([])\n",
        "    ax0.set_yticks([])\n",
        "plt.savefig(path+'/genes.png',dpi=300,  facecolor='white',bbox_inches=\"tight\")   \n",
        "\n",
        "\n"
      ],
      "metadata": {
        "id": "9gm-yzMqvXxc"
      },
      "execution_count": null,
      "outputs": []
    }
  ]
}