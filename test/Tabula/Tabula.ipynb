{
  "nbformat": 4,
  "nbformat_minor": 5,
  "metadata": {
    "kernelspec": {
      "display_name": "Python 3",
      "language": "python",
      "name": "python3"
    },
    "language_info": {
      "codemirror_mode": {
        "name": "ipython",
        "version": 3
      },
      "file_extension": ".py",
      "mimetype": "text/x-python",
      "name": "python",
      "nbconvert_exporter": "python",
      "pygments_lexer": "ipython3",
      "version": "3.7.9"
    },
    "colab": {
      "name": "Tabula.ipynb",
      "provenance": [],
      "collapsed_sections": []
    }
  },
  "cells": [
    {
      "cell_type": "markdown",
      "metadata": {
        "id": "empty-insurance"
      },
      "source": [
        "# The Method"
      ],
      "id": "empty-insurance"
    },
    {
      "cell_type": "code",
      "metadata": {
        "colab": {
          "base_uri": "https://localhost:8080/"
        },
        "id": "XmkPFWKF8NKB",
        "outputId": "6d7bd82f-d4d5-439d-a4e7-b06d118af283"
      },
      "source": [
        "!pip install activeSVC==4.0.1\n",
        "!pip install psutil"
      ],
      "id": "XmkPFWKF8NKB",
      "execution_count": 1,
      "outputs": [
        {
          "output_type": "stream",
          "name": "stdout",
          "text": [
            "Requirement already satisfied: activeSVC==4.0.1 in /usr/local/lib/python3.7/dist-packages (4.0.1)\n",
            "Requirement already satisfied: psutil in /usr/local/lib/python3.7/dist-packages (5.4.8)\n"
          ]
        }
      ]
    },
    {
      "cell_type": "code",
      "metadata": {
        "id": "western-distribution"
      },
      "source": [
        "import numpy as np\n",
        "import time\n",
        "import random\n",
        "import os\n",
        "\n",
        "from sklearn.preprocessing import normalize \n",
        "from sklearn.manifold import TSNE\n",
        "from sklearn.decomposition import PCA\n",
        "\n",
        "import matplotlib.pyplot as plt\n",
        "from matplotlib import gridspec\n",
        "\n",
        "from activeSVC import min_complexity, min_acquisition\n",
        "import pandas as pd\n",
        "import pickle\n",
        "import os, psutil\n",
        "import resource\n",
        "\n",
        "\n",
        "def text_create(path, name, msg):\n",
        "    full_path = path + \"/\" + name + '.pickle'\n",
        "    f=open(full_path,'wb') \n",
        "    pickle.dump(msg,f)\n",
        "    f.close()\n",
        "\n",
        "class TimerError(Exception):\n",
        "     \"\"\"A custom exception used to report errors in use of Timer class\"\"\"\n",
        "\n",
        "class Timer:\n",
        "    def __init__(self):\n",
        "        self._start_time = None\n",
        "\n",
        "    def start(self):\n",
        "        if self._start_time is not None:\n",
        "            raise TimerError(f\"Timer is running. Use .stop() to stop it\")\n",
        "\n",
        "        self._start_time = time.perf_counter()\n",
        "\n",
        "    def stop(self):\n",
        "        if self._start_time is None:\n",
        "            raise TimerError(f\"Timer is not running. Use .start() to start it\")\n",
        "\n",
        "        elapsed_time = time.perf_counter() - self._start_time\n",
        "        self._start_time = None\n",
        "        print(f\"Total run time: {elapsed_time:0.4f} seconds\")\n",
        "        return elapsed_time\n",
        "        \n",
        "\n",
        "\n"
      ],
      "id": "western-distribution",
      "execution_count": 2,
      "outputs": []
    },
    {
      "cell_type": "markdown",
      "metadata": {
        "id": "academic-comparative"
      },
      "source": [
        "# Download and Load Tabula Muris Data"
      ],
      "id": "academic-comparative"
    },
    {
      "cell_type": "code",
      "metadata": {
        "id": "psychological-positive"
      },
      "source": [
        "import urllib.request\n",
        "import shutil\n",
        "\n",
        "with urllib.request.urlopen(\"https://caltech.box.com/shared/static/p2bjcw4ym5ow22yc5h2ld4d7m5wzrw8t.pickle\") as response, open('./tabula.pickle', \"wb\") as out_file:\n",
        "    shutil.copyfileobj(response, out_file)\n"
      ],
      "id": "psychological-positive",
      "execution_count": 3,
      "outputs": []
    },
    {
      "cell_type": "code",
      "metadata": {
        "colab": {
          "base_uri": "https://localhost:8080/"
        },
        "id": "professional-bikini",
        "outputId": "916b3420-0a4d-4a90-fd69-1b2ca42c68ad"
      },
      "source": [
        "import pickle\n",
        "with open('tabula.pickle','rb') as handle:\n",
        "    raw_data = pickle.load(handle)\n",
        "    gene=np.array(pickle.load(handle))\n",
        "    target=np.array(pickle.load(handle))\n",
        "\n",
        "\n",
        "data=normalize(np.transpose(raw_data),axis=1, norm='l2')\n",
        "\n",
        "del raw_data\n",
        "\n",
        "idx = np.arange(np.shape(data)[0])\n",
        "random.shuffle(idx)\n",
        "X_train = data[idx[:int(np.shape(data)[0]*4/5)],:]\n",
        "y_train = target[idx[:int(np.shape(data)[0]*4/5)]]\n",
        "X_test = data[idx[int(np.shape(data)[0]*4/5):],:]\n",
        "y_test = target[idx[int(np.shape(data)[0]*4/5):]]\n",
        "\n",
        "print(np.shape(data),np.shape(target),len(np.unique(target)))\n",
        "print(np.shape(X_train))\n",
        "print(np.shape(X_test))"
      ],
      "id": "professional-bikini",
      "execution_count": 4,
      "outputs": [
        {
          "output_type": "stream",
          "name": "stdout",
          "text": [
            "(55656, 8661) (55656,) 58\n",
            "(44524, 8661)\n",
            "(11132, 8661)\n"
          ]
        }
      ]
    },
    {
      "cell_type": "markdown",
      "metadata": {
        "id": "abroad-australia"
      },
      "source": [
        "# min_complexity"
      ],
      "id": "abroad-australia"
    },
    {
      "cell_type": "markdown",
      "metadata": {
        "id": "secure-institution"
      },
      "source": [
        "## Define Parameters and Work Space"
      ],
      "id": "secure-institution"
    },
    {
      "cell_type": "code",
      "metadata": {
        "colab": {
          "base_uri": "https://localhost:8080/"
        },
        "id": "third-merit",
        "outputId": "3d499691-e599-49f1-bd00-69f928d65d0c"
      },
      "source": [
        "'''\n",
        "Parameters\n",
        "'''\n",
        "num_features = 50\n",
        "num_samples=20\n",
        "init_samples=50\n",
        "balance=False\n",
        "\n",
        "folder='results/min_complexity'\n",
        "path=folder+'/test_'+str(num_features)+'_'+str(num_samples)\n",
        "\n",
        "try:\n",
        "    os.mkdir('results')\n",
        "except OSError:\n",
        "    print (\"Creation of the directory %s failed\" % 'results')\n",
        "else:\n",
        "    print (\"Successfully created the directory %s \" % 'results')\n",
        "try:\n",
        "    os.mkdir(folder)\n",
        "except OSError:\n",
        "    print (\"Creation of the directory %s failed\" % folder)\n",
        "else:\n",
        "    print (\"Successfully created the directory %s \" % folder)\n",
        "try:\n",
        "    os.mkdir(path)\n",
        "except OSError:\n",
        "    print (\"Creation of the directory %s failed\" % path)\n",
        "else:\n",
        "    print (\"Successfully created the directory %s \" % path)"
      ],
      "id": "third-merit",
      "execution_count": 5,
      "outputs": [
        {
          "output_type": "stream",
          "name": "stdout",
          "text": [
            "Successfully created the directory results \n",
            "Successfully created the directory results/min_complexity \n",
            "Successfully created the directory results/min_complexity/test_50_20 \n"
          ]
        }
      ]
    },
    {
      "cell_type": "markdown",
      "metadata": {
        "id": "attended-czech"
      },
      "source": [
        "## Select Genes and Save Results"
      ],
      "id": "attended-czech"
    },
    {
      "cell_type": "code",
      "metadata": {
        "scrolled": true,
        "colab": {
          "base_uri": "https://localhost:8080/",
          "height": 1000
        },
        "id": "combined-peter",
        "outputId": "b5166800-0d89-4663-a612-5e3d18927d04"
      },
      "source": [
        "if __name__ == '__main__':\n",
        "\n",
        "    t=Timer()\n",
        "    t.start()\n",
        "    feature_selected, num_samples_list, train_errors,test_errors,train_scores,test_scores, step_times= min_complexity(\n",
        "        X_train,y_train,X_test,y_test,num_features=num_features,num_samples=num_samples,init_samples=init_samples, balance=balance)\n",
        "    elapsed_time=t.stop()\n",
        "    \n",
        "    memorys=[]\n",
        "    memorys.append(psutil.Process(os.getpid()).memory_info().rss / 1024 ** 2)\n",
        "    memorys.append(resource.getrusage(resource.RUSAGE_SELF).ru_maxrss/ 1024 ** 2)\n",
        "    \n",
        "    text_create(path,'feature_selected',feature_selected)\n",
        "    text_create(path,'error',train_errors+test_errors)\n",
        "    text_create(path,'accuracy',train_scores+test_scores)\n",
        "    text_create(path,'num_samples_list',num_samples_list)\n",
        "    text_create(path,'genes_name',gene[feature_selected])\n",
        "    text_create(path,'elapsed_time',elapsed_time)\n",
        "    text_create(path,'memory',memorys)\n",
        "\n",
        "    plt.figure(figsize=(8,8))\n",
        "    plt.plot(train_scores,linewidth=2)\n",
        "    plt.plot(test_scores,linewidth=2)\n",
        "    plt.legend(['train acc','test acc'],prop = {'size':18})\n",
        "    plt.xlabel('number of genes',fontdict={'weight':'normal','size': 18})\n",
        "    plt.ylabel('accuracy',fontdict={'weight':'normal','size': 18})\n",
        "    plt.tick_params(labelsize=18)\n",
        "    plt.savefig(path+'/acc.pdf', bbox_inches=\"tight\")"
      ],
      "id": "combined-peter",
      "execution_count": 6,
      "outputs": [
        {
          "output_type": "stream",
          "name": "stdout",
          "text": [
            "Elapsed time: 16.6539 seconds\n",
            "feature 0 : gene [0]  50 samples\n",
            "training error=317.2285508938999 test error=324.6383399209486\n",
            "training accuracy=0.17377144910610007 test accuracy=0.17238591448077614\n",
            "Elapsed time: 23.9992 seconds\n",
            "feature 1 : gene 6959  70 samples\n",
            "training error=233.78674422783217 test error=239.13726194753863\n",
            "training accuracy=0.25312191177791754 test accuracy=0.24703557312252963\n",
            "Elapsed time: 12.2314 seconds\n",
            "feature 2 : gene 1154  90 samples\n",
            "training error=257.039933519001 test error=263.5868666906216\n",
            "training accuracy=0.39183361782409487 test accuracy=0.3850161696011498\n",
            "Elapsed time: 12.1339 seconds\n",
            "feature 3 : gene 5611  110 samples\n",
            "training error=274.6662249573264 test error=281.2417355371901\n",
            "training accuracy=0.4310259635252897 test accuracy=0.42265540783327343\n",
            "Elapsed time: 11.5193 seconds\n",
            "feature 4 : gene 6739  130 samples\n",
            "training error=272.5186640912766 test error=279.3354293927417\n",
            "training accuracy=0.44391788698230167 test accuracy=0.4333453108156666\n",
            "Elapsed time: 11.7221 seconds\n",
            "feature 5 : gene 7739  150 samples\n",
            "training error=252.0468062168718 test error=256.82779374775424\n",
            "training accuracy=0.4819423232413979 test accuracy=0.4729608336327704\n",
            "Elapsed time: 12.7179 seconds\n",
            "feature 6 : gene 7740  170 samples\n",
            "training error=253.45016171053814 test error=256.3729787998563\n",
            "training accuracy=0.4927454855808103 test accuracy=0.48598634567014015\n",
            "Elapsed time: 12.3518 seconds\n",
            "feature 7 : gene 5004  190 samples\n",
            "training error=241.09197286856528 test error=243.9516708587855\n",
            "training accuracy=0.5103090468062169 test accuracy=0.5021559468199784\n",
            "Elapsed time: 11.7127 seconds\n",
            "feature 8 : gene 6990  210 samples\n",
            "training error=238.13136735243913 test error=245.1415738411786\n",
            "training accuracy=0.5321624292516396 test accuracy=0.523805246137262\n",
            "Elapsed time: 11.8449 seconds\n",
            "feature 9 : gene 5941  230 samples\n",
            "training error=212.641294582697 test error=219.90585698886093\n",
            "training accuracy=0.5738478124157758 test accuracy=0.5691699604743083\n",
            "Elapsed time: 11.9579 seconds\n",
            "feature 10 : gene 7369  250 samples\n",
            "training error=206.28346509747553 test error=212.11687028386632\n",
            "training accuracy=0.5878178061270326 test accuracy=0.5818361480416816\n",
            "Elapsed time: 12.3300 seconds\n",
            "feature 11 : gene 6273  270 samples\n",
            "training error=192.9279489713413 test error=198.38411785842615\n",
            "training accuracy=0.6036519629862546 test accuracy=0.5966582824290334\n",
            "Elapsed time: 12.3850 seconds\n",
            "feature 12 : gene 8522  290 samples\n",
            "training error=184.7659015362501 test error=190.1086956521739\n",
            "training accuracy=0.6226304914203575 test accuracy=0.6211821775062881\n",
            "Elapsed time: 11.8577 seconds\n",
            "feature 13 : gene 3792  310 samples\n",
            "training error=138.21691671907286 test error=141.3291412145167\n",
            "training accuracy=0.6984772257658791 test accuracy=0.6994250808480057\n",
            "Elapsed time: 13.0844 seconds\n",
            "feature 14 : gene 2766  329 samples\n",
            "training error=136.7262375348127 test error=137.92247574559826\n",
            "training accuracy=0.7099541820141946 test accuracy=0.7120912684153791\n",
            "Elapsed time: 12.7496 seconds\n",
            "feature 15 : gene 5002  348 samples\n",
            "training error=127.34017608480819 test error=127.76248652533238\n",
            "training accuracy=0.7382984457820502 test accuracy=0.7412863816025871\n",
            "Elapsed time: 12.6067 seconds\n",
            "feature 16 : gene 919  367 samples\n",
            "training error=126.05237624651873 test error=126.98697448796263\n",
            "training accuracy=0.7461369149222891 test accuracy=0.7493711821775063\n",
            "Elapsed time: 13.8187 seconds\n",
            "feature 17 : gene 3428  387 samples\n",
            "training error=122.68749438505075 test error=124.59216672655408\n",
            "training accuracy=0.7518641631479651 test accuracy=0.7541322314049587\n",
            "Elapsed time: 12.8823 seconds\n",
            "feature 18 : gene 2340  407 samples\n",
            "training error=120.75377324588986 test error=122.94169960474308\n",
            "training accuracy=0.7594106549276795 test accuracy=0.7585339561624147\n",
            "Elapsed time: 12.4740 seconds\n",
            "feature 19 : gene 881  427 samples\n",
            "training error=119.6109963165933 test error=121.6998742364355\n",
            "training accuracy=0.7663956517833079 test accuracy=0.7679662234998204\n",
            "Elapsed time: 13.3418 seconds\n",
            "feature 20 : gene 78  446 samples\n",
            "training error=119.84284880064685 test error=120.22933884297521\n",
            "training accuracy=0.7710672895517025 test accuracy=0.7711103126122889\n",
            "Elapsed time: 13.3124 seconds\n",
            "feature 21 : gene 6388  466 samples\n",
            "training error=118.42570299164495 test error=118.80506647502695\n",
            "training accuracy=0.7751100530051208 test accuracy=0.7749730506647503\n",
            "Elapsed time: 12.9193 seconds\n",
            "feature 22 : gene 1417  485 samples\n",
            "training error=115.8373461503908 test error=116.17049946101329\n",
            "training accuracy=0.7782319647830384 test accuracy=0.7782968020122171\n",
            "Elapsed time: 13.9731 seconds\n",
            "feature 23 : gene 7276  504 samples\n",
            "training error=111.46743329440302 test error=110.07348185411426\n",
            "training accuracy=0.7820950498607493 test accuracy=0.7849443047071506\n",
            "Elapsed time: 13.8990 seconds\n",
            "feature 24 : gene 3459  524 samples\n",
            "training error=111.10560596532207 test error=109.24200503054259\n",
            "training accuracy=0.7846330069176175 test accuracy=0.7867409270571326\n",
            "Elapsed time: 16.0694 seconds\n",
            "feature 25 : gene 978  544 samples\n",
            "training error=106.98809630760938 test error=107.22026590010779\n",
            "training accuracy=0.7900907375797322 test accuracy=0.7898850161696012\n",
            "Elapsed time: 16.1430 seconds\n",
            "feature 26 : gene 3429  563 samples\n",
            "training error=105.24827059563381 test error=106.07375134746677\n",
            "training accuracy=0.793122810169796 test accuracy=0.792400287459576\n",
            "Elapsed time: 14.1287 seconds\n",
            "feature 27 : gene 8469  583 samples\n",
            "training error=103.21186326475609 test error=103.36067193675889\n",
            "training accuracy=0.7967837570748361 test accuracy=0.7951850521020482\n",
            "Elapsed time: 14.9368 seconds\n",
            "feature 28 : gene 7470  603 samples\n",
            "training error=99.90218758422424 test error=101.41870283866331\n",
            "training accuracy=0.8048692839816728 test accuracy=0.8026410348544736\n",
            "Elapsed time: 15.8682 seconds\n",
            "feature 29 : gene 2538  622 samples\n",
            "training error=98.16069984727338 test error=101.03099173553719\n",
            "training accuracy=0.8096981403288114 test accuracy=0.8069529284944305\n",
            "Elapsed time: 15.6939 seconds\n",
            "feature 30 : gene 1848  642 samples\n",
            "training error=93.7375348126853 test error=95.84656845131154\n",
            "training accuracy=0.8156499865241218 test accuracy=0.8125224577793748\n",
            "Elapsed time: 15.2709 seconds\n",
            "feature 31 : gene 6873  662 samples\n",
            "training error=91.33330338693739 test error=92.450323392023\n",
            "training accuracy=0.8247012847003863 test accuracy=0.8216852317642831\n",
            "Elapsed time: 14.7170 seconds\n",
            "feature 32 : gene 2707  682 samples\n",
            "training error=81.66229449285778 test error=82.2304168163852\n",
            "training accuracy=0.8384466804420088 test accuracy=0.8365073661516349\n",
            "Elapsed time: 16.3129 seconds\n",
            "feature 33 : gene 6163  701 samples\n",
            "training error=80.72064504536878 test error=80.799856270212\n",
            "training accuracy=0.8400637858233762 test accuracy=0.8379446640316206\n",
            "Elapsed time: 15.3972 seconds\n",
            "feature 34 : gene 6003  719 samples\n",
            "training error=70.26774323960112 test error=74.3798059647862\n",
            "training accuracy=0.8514958224777648 test accuracy=0.8468379446640316\n",
            "Elapsed time: 16.5404 seconds\n",
            "feature 35 : gene 2399  737 samples\n",
            "training error=68.48259365735333 test error=72.65774344232842\n",
            "training accuracy=0.8567963345611356 test accuracy=0.8521379805964786\n",
            "Elapsed time: 14.7636 seconds\n",
            "feature 36 : gene 8134  756 samples\n",
            "training error=67.73551343095859 test error=70.53162055335969\n",
            "training accuracy=0.8591321534453329 test accuracy=0.8547430830039525\n",
            "Elapsed time: 15.8236 seconds\n",
            "feature 37 : gene 5000  776 samples\n",
            "training error=67.49496900548019 test error=68.66133668702838\n",
            "training accuracy=0.8653984367981313 test accuracy=0.8600431189363996\n",
            "Elapsed time: 16.7584 seconds\n",
            "feature 38 : gene 458  796 samples\n",
            "training error=66.50175186416315 test error=69.51518145885734\n",
            "training accuracy=0.8670155421794987 test accuracy=0.8611210923463888\n",
            "Elapsed time: 16.4492 seconds\n",
            "feature 39 : gene 2877  816 samples\n",
            "training error=65.08009163597161 test error=67.81773266259432\n",
            "training accuracy=0.8694636600485132 test accuracy=0.864893999281351\n",
            "Elapsed time: 17.7971 seconds\n",
            "feature 40 : gene 4296  834 samples\n",
            "training error=63.20422693378852 test error=63.04770032339202\n",
            "training accuracy=0.8735962626897853 test accuracy=0.8696550485088035\n",
            "Elapsed time: 17.2318 seconds\n",
            "feature 41 : gene 920  853 samples\n",
            "training error=62.809765519719704 test error=62.93280632411067\n",
            "training accuracy=0.874359895786542 test accuracy=0.8705533596837944\n",
            "Elapsed time: 16.8574 seconds\n",
            "feature 42 : gene 8206  872 samples\n",
            "training error=61.04992812864972 test error=62.41528925619835\n",
            "training accuracy=0.8760219207618363 test accuracy=0.8712720086237873\n",
            "Elapsed time: 17.6480 seconds\n",
            "feature 43 : gene 6741  890 samples\n",
            "training error=60.60650435720061 test error=62.3794466403162\n",
            "training accuracy=0.8769652322343006 test accuracy=0.8722601509162774\n",
            "Elapsed time: 18.3411 seconds\n",
            "feature 44 : gene 3988  909 samples\n",
            "training error=60.077755817087414 test error=60.134387351778656\n",
            "training accuracy=0.8782005210672895 test accuracy=0.8757635644987424\n",
            "Elapsed time: 18.2391 seconds\n",
            "feature 45 : gene 5613  926 samples\n",
            "training error=58.841613511813854 test error=60.03162055335969\n",
            "training accuracy=0.8805138801545234 test accuracy=0.877200862378728\n",
            "Elapsed time: 19.2560 seconds\n",
            "feature 46 : gene 3427  946 samples\n",
            "training error=58.593589973946635 test error=59.42049946101329\n",
            "training accuracy=0.8807609379211212 test accuracy=0.8789076536112109\n",
            "Elapsed time: 18.1969 seconds\n",
            "feature 47 : gene 5628  962 samples\n",
            "training error=57.84990117689336 test error=59.902353575278475\n",
            "training accuracy=0.882917078429611 test accuracy=0.8789076536112109\n",
            "Elapsed time: 18.6110 seconds\n",
            "feature 48 : gene 6010  981 samples\n",
            "training error=57.83831192166023 test error=59.310815666546894\n",
            "training accuracy=0.885185517922918 test accuracy=0.8831297161336688\n",
            "Elapsed time: 17.3998 seconds\n",
            "feature 49 : gene 3870  1001 samples\n",
            "training error=57.485827868116075 test error=58.491196550485085\n",
            "training accuracy=0.8862186685832361 test accuracy=0.8843873517786561\n",
            "Total run time: 751.6515 seconds\n"
          ]
        },
        {
          "output_type": "display_data",
          "data": {
            "image/png": "[encoded data removed]",
            "text/plain": [
              "<Figure size 576x576 with 1 Axes>"
            ]
          },
          "metadata": {
            "needs_background": "light"
          }
        }
      ]
    },
    {
      "cell_type": "markdown",
      "metadata": {
        "id": "controlling-symbol"
      },
      "source": [
        "# min_aquisition"
      ],
      "id": "controlling-symbol"
    },
    {
      "cell_type": "markdown",
      "metadata": {
        "id": "confused-brain"
      },
      "source": [
        "## Define Parameters and Work Space"
      ],
      "id": "confused-brain"
    },
    {
      "cell_type": "code",
      "metadata": {
        "colab": {
          "base_uri": "https://localhost:8080/"
        },
        "id": "urban-leone",
        "outputId": "72d8b880-f415-4716-a274-05c7894738a8"
      },
      "source": [
        "'''\n",
        "Parameters\n",
        "'''\n",
        "num_features = 20\n",
        "num_samples=30\n",
        "init_samples=50\n",
        "\n",
        "folder='results/min_acquisition'\n",
        "path=folder+'/test_'+str(num_features)+'_'+str(num_samples)\n",
        "\n",
        "try:\n",
        "    os.mkdir('results')\n",
        "except OSError:\n",
        "    print (\"Creation of the directory %s failed\" % 'results')\n",
        "else:\n",
        "    print (\"Successfully created the directory %s \" % 'results')\n",
        "try:\n",
        "    os.mkdir(folder)\n",
        "except OSError:\n",
        "    print (\"Creation of the directory %s failed\" % folder)\n",
        "else:\n",
        "    print (\"Successfully created the directory %s \" % folder)\n",
        "try:\n",
        "    os.mkdir(path)\n",
        "except OSError:\n",
        "    print (\"Creation of the directory %s failed\" % path)\n",
        "else:\n",
        "    print (\"Successfully created the directory %s \" % path)"
      ],
      "id": "urban-leone",
      "execution_count": 5,
      "outputs": [
        {
          "output_type": "stream",
          "name": "stdout",
          "text": [
            "Creation of the directory results failed\n",
            "Creation of the directory results/min_acquisition failed\n",
            "Creation of the directory results/min_acquisition/test_20_30 failed\n"
          ]
        }
      ]
    },
    {
      "cell_type": "markdown",
      "metadata": {
        "id": "informal-cliff"
      },
      "source": [
        "## Select Genes and Save Results"
      ],
      "id": "informal-cliff"
    },
    {
      "cell_type": "code",
      "metadata": {
        "scrolled": true,
        "colab": {
          "base_uri": "https://localhost:8080/",
          "height": 1000
        },
        "id": "spatial-luther",
        "outputId": "0088d49e-2e32-4563-83a0-6fecc70dcd03"
      },
      "source": [
        "if __name__ == '__main__':\n",
        "\n",
        "    t=Timer()\n",
        "    t.start()\n",
        "    feature_selected, num_samples_list, samples_global, train_errors,test_errors,train_scores,test_scores,step_times= min_acquisition(\n",
        "        X_train,y_train,X_test,y_test,num_features=num_features,num_samples=num_samples, init_samples=init_samples)\n",
        "    elapsed_time=t.stop()\n",
        "    \n",
        "    memorys=[]\n",
        "    memorys.append(psutil.Process(os.getpid()).memory_info().rss / 1024 ** 2)\n",
        "    memorys.append(resource.getrusage(resource.RUSAGE_SELF).ru_maxrss/ 1024 ** 2)\n",
        "    \n",
        "    text_create(path,'feature_selected',feature_selected)\n",
        "    text_create(path,'error',train_errors+test_errors)\n",
        "    text_create(path,'accuracy',train_scores+test_scores)\n",
        "    text_create(path,'num_samples_list',num_samples_list)\n",
        "    text_create(path,'samples_global',samples_global)\n",
        "    text_create(path,'genes_name',gene[feature_selected])\n",
        "    text_create(path,'elapsed_time',elapsed_time)\n",
        "    text_create(path,'memory',memorys)\n",
        "\n",
        "    plt.figure(figsize=(8,8))\n",
        "    plt.plot(train_scores,linewidth=2)\n",
        "    plt.plot(test_scores,linewidth=2)\n",
        "    plt.legend(['train acc','test acc'],prop = {'size':18})\n",
        "    plt.xlabel('number of genes',fontdict={'weight':'normal','size': 18})\n",
        "    plt.ylabel('accuracy',fontdict={'weight':'normal','size': 18})\n",
        "    plt.tick_params(labelsize=18)\n",
        "    plt.savefig(path+'/acc.pdf', bbox_inches=\"tight\")\n",
        "\n",
        "    plt.figure(figsize=(8,5))\n",
        "    plt.plot(num_samples_list,linewidth=5)\n",
        "    plt.xlabel('number of genes',fontdict={'weight':'normal','size': 18})\n",
        "    plt.ylabel('number of cells acquired',fontdict={'weight':'normal','size': 18})\n",
        "    plt.tick_params(labelsize=18)\n",
        "    plt.savefig(path+'/cells.pdf', bbox_inches=\"tight\")"
      ],
      "id": "spatial-luther",
      "execution_count": 6,
      "outputs": [
        {
          "output_type": "stream",
          "name": "stdout",
          "text": [
            "Elapsed time: 15.0219 seconds\n",
            "feature 0 : gene [6739]  50 samples\n",
            "training error=365.98075195400236 test error=368.56611570247935\n",
            "training accuracy=0.28436348935405625 test accuracy=0.27389507725476103\n",
            "Elapsed time: 18.7046 seconds\n",
            "feature 1 : gene 7369  50 samples\n",
            "training error=277.9271404186506 test error=279.4082824290334\n",
            "training accuracy=0.3688572455305004 test accuracy=0.35896514552641035\n",
            "Elapsed time: 17.9517 seconds\n",
            "feature 2 : gene 5611  50 samples\n",
            "training error=275.1804869283982 test error=277.70634207689545\n",
            "training accuracy=0.3886892462492139 test accuracy=0.3784584980237154\n",
            "Elapsed time: 18.9131 seconds\n",
            "feature 3 : gene 2766  50 samples\n",
            "training error=268.536856526817 test error=267.37279913762126\n",
            "training accuracy=0.4120025154972599 test accuracy=0.4006467840459935\n",
            "Elapsed time: 20.5769 seconds\n",
            "feature 4 : gene 6741  50 samples\n",
            "training error=268.7147605785644 test error=265.73796263025514\n",
            "training accuracy=0.4133276435181026 test accuracy=0.4032518864534675\n",
            "Elapsed time: 20.1512 seconds\n",
            "feature 5 : gene 2707  50 samples\n",
            "training error=253.74377863624113 test error=252.100251527129\n",
            "training accuracy=0.5309496002156141 test accuracy=0.522098454904779\n",
            "Elapsed time: 22.7158 seconds\n",
            "feature 6 : gene 7739  58 samples\n",
            "training error=243.75972509208518 test error=246.86722960833632\n",
            "training accuracy=0.5547569849968557 test accuracy=0.5446460653970535\n",
            "Elapsed time: 23.0556 seconds\n",
            "feature 7 : gene 2340  59 samples\n",
            "training error=229.15434372473274 test error=230.2218828602228\n",
            "training accuracy=0.5675590692660138 test accuracy=0.5592885375494071\n",
            "Elapsed time: 23.1889 seconds\n",
            "feature 8 : gene 2713  59 samples\n",
            "training error=213.6299748450274 test error=214.27524254401726\n",
            "training accuracy=0.5998787170963974 test accuracy=0.5950413223140496\n",
            "Elapsed time: 24.8424 seconds\n",
            "feature 9 : gene 6470  59 samples\n",
            "training error=192.0069400772617 test error=191.7420948616601\n",
            "training accuracy=0.6495597879795166 test accuracy=0.6469637082285303\n",
            "Elapsed time: 27.9647 seconds\n",
            "feature 10 : gene 5003  65 samples\n",
            "training error=186.9775177432396 test error=188.3295005389867\n",
            "training accuracy=0.6612838019944299 test accuracy=0.6581925979159181\n",
            "Elapsed time: 28.8165 seconds\n",
            "feature 11 : gene 2993  67 samples\n",
            "training error=182.61712784116432 test error=183.85357527847646\n",
            "training accuracy=0.6731874943850508 test accuracy=0.6681638519583184\n",
            "Elapsed time: 32.1490 seconds\n",
            "feature 12 : gene 2399  71 samples\n",
            "training error=180.45335100170695 test error=182.4695472511678\n",
            "training accuracy=0.6942547839367532 test accuracy=0.6874775422206252\n",
            "Elapsed time: 31.7505 seconds\n",
            "feature 13 : gene 4185  71 samples\n",
            "training error=172.94283981672805 test error=176.61345670140136\n",
            "training accuracy=0.7045638307429701 test accuracy=0.6973589651455264\n",
            "Elapsed time: 34.1187 seconds\n",
            "feature 14 : gene 5941  75 samples\n",
            "training error=146.33934507232055 test error=148.03341717570967\n",
            "training accuracy=0.726686730751954 test accuracy=0.724398131512756\n",
            "Elapsed time: 36.9737 seconds\n",
            "feature 15 : gene 8522  76 samples\n",
            "training error=136.74130805857516 test error=138.58111749910168\n",
            "training accuracy=0.745665259186057 test accuracy=0.7409270571325908\n",
            "Elapsed time: 38.2296 seconds\n",
            "feature 16 : gene 5628  77 samples\n",
            "training error=132.6141182283712 test error=134.86354653251885\n",
            "training accuracy=0.7536160273111131 test accuracy=0.7474847287100251\n",
            "Elapsed time: 40.3917 seconds\n",
            "feature 17 : gene 7464  77 samples\n",
            "training error=125.43598957865422 test error=128.71451670858787\n",
            "training accuracy=0.7624876471116702 test accuracy=0.7544915558749551\n",
            "Elapsed time: 42.3501 seconds\n",
            "feature 18 : gene 1148  78 samples\n",
            "training error=121.43432755367891 test error=124.8913043478261\n",
            "training accuracy=0.7813987961548827 test accuracy=0.7758713618397413\n",
            "Elapsed time: 44.1443 seconds\n",
            "feature 19 : gene 458  83 samples\n",
            "training error=114.69656814302398 test error=115.95229967660798\n",
            "training accuracy=0.794874674332944 test accuracy=0.7906934962270931\n",
            "Total run time: 567.3396 seconds\n"
          ]
        },
        {
          "output_type": "display_data",
          "data": {
            "image/png": "[encoded data removed]",
            "text/plain": [
              "<Figure size 576x576 with 1 Axes>"
            ]
          },
          "metadata": {
            "needs_background": "light"
          }
        },
        {
          "output_type": "display_data",
          "data": {
            "image/png": "[encoded data removed]",
            "text/plain": [
              "<Figure size 576x360 with 1 Axes>"
            ]
          },
          "metadata": {
            "needs_background": "light"
          }
        }
      ]
    },
    {
      "cell_type": "markdown",
      "metadata": {
        "id": "right-status"
      },
      "source": [
        "# T-SNE of Results"
      ],
      "id": "right-status"
    },
    {
      "cell_type": "code",
      "metadata": {
        "colab": {
          "base_uri": "https://localhost:8080/"
        },
        "id": "WW_DwTvZcmod",
        "outputId": "5f838df9-fd07-4fba-9188-3a9edd634fc8"
      },
      "source": [
        "with open('tabula.pickle','rb') as handle:\n",
        "    raw_data = pickle.load(handle)\n",
        "    gene=np.array(pickle.load(handle))\n",
        "    target=np.array(pickle.load(handle))\n",
        "\n",
        "data_tmp=normalize(raw_data,axis=1, norm='l2')\n",
        "alpha = 100\n",
        "data = np.log1p(data_tmp*alpha).toarray().transpose()\n",
        "\n",
        "del raw_data,data_tmp\n",
        "\n",
        "print(np.shape(data),np.shape(target),len(np.unique(target)))"
      ],
      "id": "WW_DwTvZcmod",
      "execution_count": 7,
      "outputs": [
        {
          "output_type": "stream",
          "name": "stdout",
          "text": [
            "(55656, 8661) (55656,) 58\n"
          ]
        }
      ]
    },
    {
      "cell_type": "markdown",
      "metadata": {
        "id": "working-jacob"
      },
      "source": [
        "## T-SNE of Original Dataset"
      ],
      "id": "working-jacob"
    },
    {
      "cell_type": "code",
      "metadata": {
        "id": "BWgmccEGpW4c"
      },
      "source": [
        "classes=[39,14,46,0,21,51,7,44,9,28,29,45,13,27,50,22,41,52]\n",
        "keys=['B cell','T cell','mesenchymal cell','keratinocyte','basal cell of epidermis', 'macrophage','kidney PST epithelial cell', 'hepatocyte','granulocyte','natural killer cell','immature T cell','alveolar macrophage', 'bladder cell','antigen presenting cell','stromal cell','endothelial cell','mesenchymal stem cell','bladder urothelial cell']\n",
        "\n",
        "idx=list([])\n",
        "labels=target\n",
        "for i in range(len(classes)):\n",
        "    tmp=list(np.where(target==classes[i])[0])\n",
        "    labels[tmp]=i+1\n",
        "    idx =idx+ tmp\n",
        "others=list(set(range(np.shape(data)[0])).difference(set(idx)))\n",
        "labels[others]=-1\n",
        "\n",
        "pca=PCA(n_components=int(X_train.shape[1]/100),\n",
        "       copy=True,\n",
        "       whiten=False,\n",
        "       svd_solver='auto',\n",
        "       tol=0.0,\n",
        "       iterated_power='auto',\n",
        "       random_state=None)\n",
        "pcaproj=pca.fit_transform(data)\n",
        "Y=TSNE(n_components=2).fit_transform(pcaproj)\n",
        "\n",
        "plt.figure(figsize=(12,8))\n",
        "c_cmap = plt.get_cmap('tab20', len(classes))\n",
        "plt.scatter(Y[others,0], Y[others,1], c='lightgray', s= 0.5) # plot all cells as background\n",
        "plt.scatter(Y[idx,0], Y[idx,1], c=labels[idx], s=0.5,cmap=c_cmap) # plot subpopulation cells on top\n",
        "cbar=plt.colorbar(ticks=np.arange(1,len(classes)+1))\n",
        "plt.xticks([])\n",
        "plt.yticks([])\n",
        "cbar.ax.set_yticklabels(keys,fontdict={'weight':'normal','size': 18})\n",
        "plt.savefig(path+'/tsne.pdf',bbox_inches=\"tight\")\n",
        "import pickle\n",
        "f=open(path+'/tsne.pickle','wb') \n",
        "pickle.dump(Y,f)\n",
        "f.close()"
      ],
      "id": "BWgmccEGpW4c",
      "execution_count": null,
      "outputs": []
    },
    {
      "cell_type": "markdown",
      "metadata": {
        "id": "executive-disney"
      },
      "source": [
        "## T-SNE with All Genes Selected"
      ],
      "id": "executive-disney"
    },
    {
      "cell_type": "code",
      "metadata": {
        "id": "multiple-mitchell"
      },
      "source": [
        "data_selected=data[:,feature_selected]\n",
        "\n",
        "pca=PCA(n_components=10,\n",
        "       copy=True,\n",
        "       whiten=False,\n",
        "       svd_solver='auto',\n",
        "       tol=0.0,\n",
        "       iterated_power='auto',\n",
        "       random_state=None)\n",
        "pcaproj=pca.fit_transform(data_selected)\n",
        "\n",
        "Y_selected=TSNE(n_components=2,perplexity=200,early_exaggeration=1).fit_transform(pcaproj)\n",
        "\n",
        "plt.figure(figsize=(12,8))\n",
        "\n",
        "c_cmap = plt.get_cmap('tab20', len(classes))\n",
        "plt.scatter(Y_selected[others,0], Y_selected[others,1], c='lightgray', s= 0.01) # plot all cells as background\n",
        "plt.scatter(Y_selected[idx,0], Y_selected[idx,1], c=labels[idx], s=0.5,cmap=c_cmap) # plot subpopulation cells on top\n",
        "cbar=plt.colorbar(ticks=np.arange(1,len(classes)+1))\n",
        "plt.xticks([])\n",
        "plt.yticks([])\n",
        "cbar.ax.set_yticklabels(keys,fontdict={'weight':'normal','size': 18})\n",
        "plt.savefig(path+'/tsne_selected_wpca.pdf',bbox_inches=\"tight\")\n",
        "import pickle\n",
        "f=open(path+'/tsne_selected_wPCA.pickle','wb') \n",
        "pickle.dump(Y_selected,f)\n",
        "f.close()"
      ],
      "id": "multiple-mitchell",
      "execution_count": null,
      "outputs": []
    },
    {
      "cell_type": "markdown",
      "metadata": {
        "id": "parental-certification"
      },
      "source": [
        "## T-SNE of Each Gene"
      ],
      "id": "parental-certification"
    },
    {
      "cell_type": "code",
      "metadata": {
        "id": "broken-workstation"
      },
      "source": [
        "\n",
        "size=len(feature_selected)\n",
        "plt.figure(figsize=(30,0.25*size))\n",
        "gs = gridspec.GridSpec(int(size/10), 10, width_ratios=[7,7,7,7,7,7,7,7,7,7])\n",
        "\n",
        "for i in range(size):\n",
        "    f=feature_selected[i]\n",
        "    ax0 = plt.subplot(gs[i])\n",
        "    ax0.set_title(gene[f],fontdict={'weight':'normal','size': 18})\n",
        "    plt.scatter(Y[:,0],Y[:,1],c=data[:,f],s=0.005)\n",
        "    ax0.set_xticks([])\n",
        "    ax0.set_yticks([])\n",
        "plt.savefig(path+'/gene.png',dpi=300,  bbox_inches=\"tight\")    "
      ],
      "id": "broken-workstation",
      "execution_count": null,
      "outputs": []
    },
    {
      "cell_type": "code",
      "metadata": {
        "id": "sweet-sunday"
      },
      "source": [
        ""
      ],
      "id": "sweet-sunday",
      "execution_count": null,
      "outputs": []
    }
  ]
}